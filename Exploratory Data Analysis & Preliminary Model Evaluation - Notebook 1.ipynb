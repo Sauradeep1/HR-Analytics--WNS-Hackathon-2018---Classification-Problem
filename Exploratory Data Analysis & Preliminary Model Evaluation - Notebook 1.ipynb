{
 "cells": [
  {
   "cell_type": "code",
   "execution_count": 1,
   "metadata": {},
   "outputs": [],
   "source": [
    "import pandas as pd\n",
    "import numpy as np"
   ]
  },
  {
   "cell_type": "code",
   "execution_count": 4,
   "metadata": {},
   "outputs": [],
   "source": [
    "from scipy.stats import norm\n",
    "from sklearn.preprocessing import StandardScaler\n",
    "from scipy import stats\n",
    "import warnings\n",
    "warnings.filterwarnings('ignore')\n",
    "%matplotlib inline\n",
    "from scipy import stats\n",
    "from scipy.stats import norm, skew \n",
    "from scipy.stats import shapiro #for checking for skewed data - Shapiro Wilks Test\n",
    "import matplotlib\n",
    "import seaborn as sns"
   ]
  },
  {
   "cell_type": "code",
   "execution_count": 195,
   "metadata": {},
   "outputs": [
    {
     "data": {
      "text/html": [
       "<div>\n",
       "<style scoped>\n",
       "    .dataframe tbody tr th:only-of-type {\n",
       "        vertical-align: middle;\n",
       "    }\n",
       "\n",
       "    .dataframe tbody tr th {\n",
       "        vertical-align: top;\n",
       "    }\n",
       "\n",
       "    .dataframe thead th {\n",
       "        text-align: right;\n",
       "    }\n",
       "</style>\n",
       "<table border=\"1\" class=\"dataframe\">\n",
       "  <thead>\n",
       "    <tr style=\"text-align: right;\">\n",
       "      <th></th>\n",
       "      <th>v.id</th>\n",
       "      <th>on road old</th>\n",
       "      <th>on road now</th>\n",
       "      <th>years</th>\n",
       "      <th>km</th>\n",
       "      <th>rating</th>\n",
       "      <th>condition</th>\n",
       "      <th>economy</th>\n",
       "      <th>top speed</th>\n",
       "      <th>hp</th>\n",
       "      <th>torque</th>\n",
       "      <th>current price</th>\n",
       "    </tr>\n",
       "  </thead>\n",
       "  <tbody>\n",
       "    <tr>\n",
       "      <th>0</th>\n",
       "      <td>1</td>\n",
       "      <td>535651</td>\n",
       "      <td>798186</td>\n",
       "      <td>3</td>\n",
       "      <td>78945</td>\n",
       "      <td>1</td>\n",
       "      <td>2</td>\n",
       "      <td>14</td>\n",
       "      <td>177</td>\n",
       "      <td>73</td>\n",
       "      <td>123</td>\n",
       "      <td>351318.0</td>\n",
       "    </tr>\n",
       "    <tr>\n",
       "      <th>1</th>\n",
       "      <td>2</td>\n",
       "      <td>591911</td>\n",
       "      <td>861056</td>\n",
       "      <td>6</td>\n",
       "      <td>117220</td>\n",
       "      <td>5</td>\n",
       "      <td>9</td>\n",
       "      <td>9</td>\n",
       "      <td>148</td>\n",
       "      <td>74</td>\n",
       "      <td>95</td>\n",
       "      <td>285001.5</td>\n",
       "    </tr>\n",
       "    <tr>\n",
       "      <th>2</th>\n",
       "      <td>3</td>\n",
       "      <td>686990</td>\n",
       "      <td>770762</td>\n",
       "      <td>2</td>\n",
       "      <td>132538</td>\n",
       "      <td>2</td>\n",
       "      <td>8</td>\n",
       "      <td>15</td>\n",
       "      <td>181</td>\n",
       "      <td>53</td>\n",
       "      <td>97</td>\n",
       "      <td>215386.0</td>\n",
       "    </tr>\n",
       "    <tr>\n",
       "      <th>3</th>\n",
       "      <td>4</td>\n",
       "      <td>573999</td>\n",
       "      <td>722381</td>\n",
       "      <td>4</td>\n",
       "      <td>101065</td>\n",
       "      <td>4</td>\n",
       "      <td>3</td>\n",
       "      <td>11</td>\n",
       "      <td>197</td>\n",
       "      <td>54</td>\n",
       "      <td>116</td>\n",
       "      <td>244295.5</td>\n",
       "    </tr>\n",
       "    <tr>\n",
       "      <th>4</th>\n",
       "      <td>5</td>\n",
       "      <td>691388</td>\n",
       "      <td>811335</td>\n",
       "      <td>6</td>\n",
       "      <td>61559</td>\n",
       "      <td>3</td>\n",
       "      <td>9</td>\n",
       "      <td>12</td>\n",
       "      <td>160</td>\n",
       "      <td>53</td>\n",
       "      <td>105</td>\n",
       "      <td>531114.5</td>\n",
       "    </tr>\n",
       "  </tbody>\n",
       "</table>\n",
       "</div>"
      ],
      "text/plain": [
       "   v.id  on road old  on road now  years     km   rating  condition  economy  \\\n",
       "0     1       535651       798186      3   78945       1          2       14   \n",
       "1     2       591911       861056      6  117220       5          9        9   \n",
       "2     3       686990       770762      2  132538       2          8       15   \n",
       "3     4       573999       722381      4  101065       4          3       11   \n",
       "4     5       691388       811335      6   61559       3          9       12   \n",
       "\n",
       "   top speed  hp  torque  current price  \n",
       "0        177  73     123       351318.0  \n",
       "1        148  74      95       285001.5  \n",
       "2        181  53      97       215386.0  \n",
       "3        197  54     116       244295.5  \n",
       "4        160  53     105       531114.5  "
      ]
     },
     "execution_count": 195,
     "metadata": {},
     "output_type": "execute_result"
    }
   ],
   "source": [
    "uni =pd.read_csv('UNI.csv')\n",
    "uni.head()"
   ]
  },
  {
   "cell_type": "code",
   "execution_count": 196,
   "metadata": {},
   "outputs": [
    {
     "data": {
      "text/html": [
       "<div>\n",
       "<style scoped>\n",
       "    .dataframe tbody tr th:only-of-type {\n",
       "        vertical-align: middle;\n",
       "    }\n",
       "\n",
       "    .dataframe tbody tr th {\n",
       "        vertical-align: top;\n",
       "    }\n",
       "\n",
       "    .dataframe thead th {\n",
       "        text-align: right;\n",
       "    }\n",
       "</style>\n",
       "<table border=\"1\" class=\"dataframe\">\n",
       "  <thead>\n",
       "    <tr style=\"text-align: right;\">\n",
       "      <th></th>\n",
       "      <th>v.id</th>\n",
       "      <th>on road old</th>\n",
       "      <th>on road now</th>\n",
       "      <th>years</th>\n",
       "      <th>km</th>\n",
       "      <th>rating</th>\n",
       "      <th>condition</th>\n",
       "      <th>economy</th>\n",
       "      <th>top speed</th>\n",
       "      <th>hp</th>\n",
       "      <th>torque</th>\n",
       "    </tr>\n",
       "  </thead>\n",
       "  <tbody>\n",
       "    <tr>\n",
       "      <th>0</th>\n",
       "      <td>1</td>\n",
       "      <td>514396</td>\n",
       "      <td>881378</td>\n",
       "      <td>3</td>\n",
       "      <td>115717</td>\n",
       "      <td>3</td>\n",
       "      <td>4</td>\n",
       "      <td>10</td>\n",
       "      <td>144</td>\n",
       "      <td>70</td>\n",
       "      <td>117</td>\n",
       "    </tr>\n",
       "    <tr>\n",
       "      <th>1</th>\n",
       "      <td>2</td>\n",
       "      <td>654594</td>\n",
       "      <td>749943</td>\n",
       "      <td>7</td>\n",
       "      <td>135999</td>\n",
       "      <td>1</td>\n",
       "      <td>2</td>\n",
       "      <td>13</td>\n",
       "      <td>161</td>\n",
       "      <td>51</td>\n",
       "      <td>70</td>\n",
       "    </tr>\n",
       "    <tr>\n",
       "      <th>2</th>\n",
       "      <td>3</td>\n",
       "      <td>559836</td>\n",
       "      <td>865594</td>\n",
       "      <td>4</td>\n",
       "      <td>142651</td>\n",
       "      <td>1</td>\n",
       "      <td>6</td>\n",
       "      <td>10</td>\n",
       "      <td>184</td>\n",
       "      <td>116</td>\n",
       "      <td>72</td>\n",
       "    </tr>\n",
       "    <tr>\n",
       "      <th>3</th>\n",
       "      <td>4</td>\n",
       "      <td>523784</td>\n",
       "      <td>870895</td>\n",
       "      <td>5</td>\n",
       "      <td>57223</td>\n",
       "      <td>4</td>\n",
       "      <td>2</td>\n",
       "      <td>14</td>\n",
       "      <td>170</td>\n",
       "      <td>76</td>\n",
       "      <td>102</td>\n",
       "    </tr>\n",
       "    <tr>\n",
       "      <th>4</th>\n",
       "      <td>5</td>\n",
       "      <td>547534</td>\n",
       "      <td>824478</td>\n",
       "      <td>4</td>\n",
       "      <td>51927</td>\n",
       "      <td>5</td>\n",
       "      <td>6</td>\n",
       "      <td>9</td>\n",
       "      <td>162</td>\n",
       "      <td>53</td>\n",
       "      <td>71</td>\n",
       "    </tr>\n",
       "  </tbody>\n",
       "</table>\n",
       "</div>"
      ],
      "text/plain": [
       "   v.id  on road old  on road now  years      km  rating  condition  economy  \\\n",
       "0     1       514396       881378      3  115717       3          4       10   \n",
       "1     2       654594       749943      7  135999       1          2       13   \n",
       "2     3       559836       865594      4  142651       1          6       10   \n",
       "3     4       523784       870895      5   57223       4          2       14   \n",
       "4     5       547534       824478      4   51927       5          6        9   \n",
       "\n",
       "   top speed    hp  torque  \n",
       "0         144   70     117  \n",
       "1         161   51      70  \n",
       "2         184  116      72  \n",
       "3         170   76     102  \n",
       "4         162   53      71  "
      ]
     },
     "execution_count": 196,
     "metadata": {},
     "output_type": "execute_result"
    }
   ],
   "source": [
    "unitest = pd.read_csv('unitest_1.csv')\n",
    "unitest.head()"
   ]
  },
  {
   "cell_type": "code",
   "execution_count": 5,
   "metadata": {},
   "outputs": [
    {
     "data": {
      "text/plain": [
       "v.id             0\n",
       "on road old      0\n",
       "on road now      0\n",
       "years            0\n",
       "km               0\n",
       "rating           0\n",
       "condition        0\n",
       "economy          0\n",
       "top speed        0\n",
       "hp               0\n",
       "torque           0\n",
       "current price    0\n",
       "dtype: int64"
      ]
     },
     "execution_count": 5,
     "metadata": {},
     "output_type": "execute_result"
    }
   ],
   "source": [
    "uni.isnull().sum()"
   ]
  },
  {
   "cell_type": "code",
   "execution_count": 6,
   "metadata": {},
   "outputs": [
    {
     "data": {
      "text/plain": [
       "v.id           0\n",
       "on road old    0\n",
       "on road now    0\n",
       "years          0\n",
       "km             0\n",
       "rating         0\n",
       "condition      0\n",
       "economy        0\n",
       "top speed      0\n",
       "hp             0\n",
       "torque         0\n",
       "dtype: int64"
      ]
     },
     "execution_count": 6,
     "metadata": {},
     "output_type": "execute_result"
    }
   ],
   "source": [
    "unitest.isnull().sum()# no null values in the dataset."
   ]
  },
  {
   "cell_type": "code",
   "execution_count": 7,
   "metadata": {},
   "outputs": [
    {
     "data": {
      "text/plain": [
       "2.516952792019911e-11"
      ]
     },
     "execution_count": 7,
     "metadata": {},
     "output_type": "execute_result"
    }
   ],
   "source": [
    "shapiro(uni['current price'])[1]#if the value is < 0.05 then it is skewed i.e. Not Normal."
   ]
  },
  {
   "cell_type": "code",
   "execution_count": 8,
   "metadata": {},
   "outputs": [],
   "source": [
    "# To calculate skewedness of all the columns , we use Fisher Pearson Standard Moment Co-efficient\n",
    "num_feats = uni.dtypes[uni.dtypes!= 'object'].index # determine index for continuous variables\n",
    "skew_feats = uni.skew().sort_values(ascending = False)# calculate skewness & sort descending\n",
    "skewness = pd.DataFrame({'skew': skew_feats})"
   ]
  },
  {
   "cell_type": "code",
   "execution_count": 9,
   "metadata": {},
   "outputs": [
    {
     "data": {
      "text/html": [
       "<div>\n",
       "<style scoped>\n",
       "    .dataframe tbody tr th:only-of-type {\n",
       "        vertical-align: middle;\n",
       "    }\n",
       "\n",
       "    .dataframe tbody tr th {\n",
       "        vertical-align: top;\n",
       "    }\n",
       "\n",
       "    .dataframe thead th {\n",
       "        text-align: right;\n",
       "    }\n",
       "</style>\n",
       "<table border=\"1\" class=\"dataframe\">\n",
       "  <thead>\n",
       "    <tr style=\"text-align: right;\">\n",
       "      <th></th>\n",
       "      <th>skew</th>\n",
       "    </tr>\n",
       "  </thead>\n",
       "  <tbody>\n",
       "    <tr>\n",
       "      <th>top speed</th>\n",
       "      <td>0.064535</td>\n",
       "    </tr>\n",
       "    <tr>\n",
       "      <th>current price</th>\n",
       "      <td>0.025161</td>\n",
       "    </tr>\n",
       "    <tr>\n",
       "      <th>hp</th>\n",
       "      <td>0.023485</td>\n",
       "    </tr>\n",
       "    <tr>\n",
       "      <th>on road now</th>\n",
       "      <td>0.003296</td>\n",
       "    </tr>\n",
       "    <tr>\n",
       "      <th>v.id</th>\n",
       "      <td>0.000000</td>\n",
       "    </tr>\n",
       "    <tr>\n",
       "      <th>rating</th>\n",
       "      <td>-0.004806</td>\n",
       "    </tr>\n",
       "    <tr>\n",
       "      <th>torque</th>\n",
       "      <td>-0.005675</td>\n",
       "    </tr>\n",
       "    <tr>\n",
       "      <th>km</th>\n",
       "      <td>-0.022624</td>\n",
       "    </tr>\n",
       "    <tr>\n",
       "      <th>years</th>\n",
       "      <td>-0.029663</td>\n",
       "    </tr>\n",
       "    <tr>\n",
       "      <th>condition</th>\n",
       "      <td>-0.060334</td>\n",
       "    </tr>\n",
       "    <tr>\n",
       "      <th>on road old</th>\n",
       "      <td>-0.060868</td>\n",
       "    </tr>\n",
       "    <tr>\n",
       "      <th>economy</th>\n",
       "      <td>-0.061692</td>\n",
       "    </tr>\n",
       "  </tbody>\n",
       "</table>\n",
       "</div>"
      ],
      "text/plain": [
       "                   skew\n",
       "top speed      0.064535\n",
       "current price  0.025161\n",
       "hp             0.023485\n",
       "on road now    0.003296\n",
       "v.id           0.000000\n",
       "rating        -0.004806\n",
       "torque        -0.005675\n",
       "km            -0.022624\n",
       "years         -0.029663\n",
       "condition     -0.060334\n",
       "on road old   -0.060868\n",
       "economy       -0.061692"
      ]
     },
     "execution_count": 9,
     "metadata": {},
     "output_type": "execute_result"
    }
   ],
   "source": [
    "skewness"
   ]
  },
  {
   "cell_type": "code",
   "execution_count": 10,
   "metadata": {},
   "outputs": [
    {
     "data": {
      "text/plain": [
       "<matplotlib.axes._subplots.AxesSubplot at 0x176c05f5b70>"
      ]
     },
     "execution_count": 10,
     "metadata": {},
     "output_type": "execute_result"
    },
    {
     "data": {
      "image/png": "[encoded data removed]",
      "text/plain": [
       "<Figure size 432x288 with 1 Axes>"
      ]
     },
     "metadata": {
      "needs_background": "light"
     },
     "output_type": "display_data"
    }
   ],
   "source": [
    "resp = uni['current price']\n",
    "sns.distplot(resp)"
   ]
  },
  {
   "cell_type": "code",
   "execution_count": 12,
   "metadata": {},
   "outputs": [
    {
     "name": "stdout",
     "output_type": "stream",
     "text": [
      "Skewness: 0.025161\n",
      "Kurtosis: -0.973185\n"
     ]
    }
   ],
   "source": [
    "#skewness and kurtosis\n",
    "print(\"Skewness: %f\" % uni['current price'].skew())#log transformation is usually good for positive skewedness\n",
    "print(\"Kurtosis: %f\" % uni['current price'].kurt())#tail"
   ]
  },
  {
   "cell_type": "code",
   "execution_count": 14,
   "metadata": {},
   "outputs": [
    {
     "data": {
      "text/plain": [
       "current price    1.000000\n",
       "on road now      0.282793\n",
       "on road old      0.233035\n",
       "condition        0.110108\n",
       "rating           0.035038\n",
       "hp               0.030238\n",
       "torque          -0.002290\n",
       "years           -0.011854\n",
       "top speed       -0.027993\n",
       "economy         -0.034711\n",
       "v.id            -0.059460\n",
       "km              -0.935924\n",
       "Name: current price, dtype: float64"
      ]
     },
     "execution_count": 14,
     "metadata": {},
     "output_type": "execute_result"
    }
   ],
   "source": [
    "#correlation in data\n",
    "corr=uni.corr()[\"current price\"]\n",
    "corr[np.argsort(corr, axis=0)[::-1]]"
   ]
  },
  {
   "cell_type": "markdown",
   "metadata": {},
   "source": [
    "Now we Standardize features by removing the mean and scaling to unit variance"
   ]
  },
  {
   "cell_type": "code",
   "execution_count": 197,
   "metadata": {},
   "outputs": [],
   "source": [
    "target = uni['current price']\n",
    "uni.drop(['current price'], axis =1, inplace =True)\n",
    "#standardizing data\n",
    "from sklearn.preprocessing import StandardScaler  \n",
    "scaler = StandardScaler()  \n",
    " # Don't cheat - fit only on training data\n",
    "scaler.fit(uni)  \n",
    "uni = scaler.transform(uni)  \n",
    "# apply same transformation to test data\n",
    "unitest = scaler.transform(unitest)  "
   ]
  },
  {
   "cell_type": "code",
   "execution_count": 198,
   "metadata": {},
   "outputs": [
    {
     "ename": "IndexError",
     "evalue": "only integers, slices (`:`), ellipsis (`...`), numpy.newaxis (`None`) and integer or boolean arrays are valid indices",
     "output_type": "error",
     "traceback": [
      "\u001b[1;31m---------------------------------------------------------------------------\u001b[0m",
      "\u001b[1;31mIndexError\u001b[0m                                Traceback (most recent call last)",
      "\u001b[1;32m<ipython-input-198-635b221568a9>\u001b[0m in \u001b[0;36m<module>\u001b[1;34m\u001b[0m\n\u001b[1;32m----> 1\u001b[1;33m \u001b[0muni\u001b[0m\u001b[1;33m[\u001b[0m\u001b[1;34m'current price'\u001b[0m\u001b[1;33m]\u001b[0m\u001b[1;33m.\u001b[0m\u001b[0mdescribe\u001b[0m\u001b[1;33m(\u001b[0m\u001b[1;33m)\u001b[0m\u001b[1;33m\u001b[0m\u001b[1;33m\u001b[0m\u001b[0m\n\u001b[0m",
      "\u001b[1;31mIndexError\u001b[0m: only integers, slices (`:`), ellipsis (`...`), numpy.newaxis (`None`) and integer or boolean arrays are valid indices"
     ]
    }
   ],
   "source": []
  },
  {
   "cell_type": "code",
   "execution_count": 20,
   "metadata": {},
   "outputs": [
    {
     "name": "stdout",
     "output_type": "stream",
     "text": [
      "\n",
      " mu = 308520.24 and sigma = 126010.21\n",
      "\n"
     ]
    },
    {
     "data": {
      "image/png": "[encoded data removed]",
      "text/plain": [
       "<Figure size 432x288 with 1 Axes>"
      ]
     },
     "metadata": {
      "needs_background": "light"
     },
     "output_type": "display_data"
    },
    {
     "data": {
      "image/png": "[encoded data removed]",
      "text/plain": [
       "<Figure size 432x288 with 1 Axes>"
      ]
     },
     "metadata": {
      "needs_background": "light"
     },
     "output_type": "display_data"
    }
   ],
   "source": [
    "#analysis on the target variable\n",
    "import matplotlib.pyplot as plt\n",
    "sns.distplot(uni['current price'] , fit=norm);\n",
    "\n",
    "# Get the fitted parameters used by the function\n",
    "(mu, sigma) = norm.fit(uni['current price'])\n",
    "print( '\\n mu = {:.2f} and sigma = {:.2f}\\n'.format(mu, sigma))\n",
    "\n",
    "#Now plot the distribution\n",
    "plt.legend(['Normal dist. ($\\mu=$ {:.2f} and $\\sigma=$ {:.2f} )'.format(mu, sigma)],\n",
    "            loc='best')\n",
    "plt.ylabel('Frequency')\n",
    "plt.title('SalePrice distribution')\n",
    "\n",
    "#Get also the QQ-plot\n",
    "\n",
    "fig = plt.figure()\n",
    "res = stats.probplot(uni['current price'], plot=plt)\n",
    "plt.show()"
   ]
  },
  {
   "cell_type": "code",
   "execution_count": 21,
   "metadata": {},
   "outputs": [
    {
     "name": "stdout",
     "output_type": "stream",
     "text": [
      "\n",
      " mu = 12.54 and sigma = 0.49\n",
      "\n"
     ]
    },
    {
     "data": {
      "image/png": "[encoded data removed]",
      "text/plain": [
       "<Figure size 432x288 with 1 Axes>"
      ]
     },
     "metadata": {
      "needs_background": "light"
     },
     "output_type": "display_data"
    },
    {
     "data": {
      "image/png": "[encoded data removed]",
      "text/plain": [
       "<Figure size 432x288 with 1 Axes>"
      ]
     },
     "metadata": {
      "needs_background": "light"
     },
     "output_type": "display_data"
    }
   ],
   "source": [
    "#We use the numpy fuction log1p which  applies log(1+x) to all elements of the column\n",
    "uni['current price'] = np.log1p(uni['current price'])\n",
    "\n",
    "#Check the new distribution \n",
    "sns.distplot(uni['current price'] , fit=norm);\n",
    "\n",
    "# Get the fitted parameters used by the function\n",
    "(mu, sigma) = norm.fit(uni['current price'])\n",
    "print( '\\n mu = {:.2f} and sigma = {:.2f}\\n'.format(mu, sigma))\n",
    "\n",
    "#Now plot the distribution\n",
    "plt.legend(['Normal dist. ($\\mu=$ {:.2f} and $\\sigma=$ {:.2f} )'.format(mu, sigma)],\n",
    "            loc='best')\n",
    "plt.ylabel('Frequency')\n",
    "plt.title('SalePrice distribution')\n",
    "\n",
    "#Get also the QQ-plot\n",
    "fig = plt.figure()\n",
    "res = stats.probplot(uni['current price'], plot=plt)\n",
    "plt.show()"
   ]
  },
  {
   "cell_type": "markdown",
   "metadata": {},
   "source": [
    "We can see the distribution deviates from normal distribution. Also no categorical variables"
   ]
  },
  {
   "cell_type": "code",
   "execution_count": 23,
   "metadata": {},
   "outputs": [],
   "source": [
    "from sklearn.linear_model import ElasticNet, Lasso,  BayesianRidge, LassoLarsIC\n",
    "from sklearn.ensemble import RandomForestRegressor,  GradientBoostingRegressor\n",
    "from sklearn.kernel_ridge import KernelRidge\n",
    "from sklearn.pipeline import make_pipeline\n",
    "from sklearn.preprocessing import RobustScaler\n",
    "from sklearn.base import BaseEstimator, TransformerMixin, RegressorMixin, clone\n",
    "from sklearn.model_selection import KFold, cross_val_score, train_test_split\n",
    "from sklearn.metrics import mean_squared_error\n",
    "import xgboost as xgb\n",
    "import lightgbm as lgb"
   ]
  },
  {
   "cell_type": "code",
   "execution_count": 40,
   "metadata": {},
   "outputs": [],
   "source": []
  },
  {
   "cell_type": "markdown",
   "metadata": {},
   "source": [
    "LASSO Regression : This model may be very sensitive to outliers. So we need to made it more robust on them. For that we use the sklearn's Robustscaler() method on pipeline"
   ]
  },
  {
   "cell_type": "code",
   "execution_count": 30,
   "metadata": {},
   "outputs": [],
   "source": [
    "lasso = make_pipeline(RobustScaler(), Lasso(alpha =0.0001, random_state=1))\n"
   ]
  },
  {
   "cell_type": "code",
   "execution_count": 31,
   "metadata": {},
   "outputs": [],
   "source": [
    "lasso2 = make_pipeline(RobustScaler(), Lasso(alpha =0.0005, random_state=1))\n"
   ]
  },
  {
   "cell_type": "code",
   "execution_count": 32,
   "metadata": {},
   "outputs": [],
   "source": [
    "lasso3 = make_pipeline(RobustScaler(), Lasso(alpha =0.0010, random_state=1))\n"
   ]
  },
  {
   "cell_type": "code",
   "execution_count": 109,
   "metadata": {},
   "outputs": [],
   "source": [
    "lasso35 = make_pipeline(RobustScaler(), Lasso(alpha =0.0013, random_state=1))"
   ]
  },
  {
   "cell_type": "code",
   "execution_count": 33,
   "metadata": {},
   "outputs": [],
   "source": [
    "lasso4 = make_pipeline(RobustScaler(), Lasso(alpha =0.0015, random_state=1))\n"
   ]
  },
  {
   "cell_type": "code",
   "execution_count": 110,
   "metadata": {},
   "outputs": [],
   "source": [
    "lasso45 = make_pipeline(RobustScaler(), Lasso(alpha =0.0020, random_state=1))"
   ]
  },
  {
   "cell_type": "code",
   "execution_count": 105,
   "metadata": {},
   "outputs": [],
   "source": [
    "lasso5 = make_pipeline(RobustScaler(), Lasso(alpha =0.0025, random_state=1))"
   ]
  },
  {
   "cell_type": "code",
   "execution_count": 106,
   "metadata": {},
   "outputs": [],
   "source": [
    "lasso6 = make_pipeline(RobustScaler(), Lasso(alpha =0.0036, random_state=1))"
   ]
  },
  {
   "cell_type": "code",
   "execution_count": 48,
   "metadata": {},
   "outputs": [],
   "source": [
    "target = uni['current price']"
   ]
  },
  {
   "cell_type": "code",
   "execution_count": 79,
   "metadata": {},
   "outputs": [],
   "source": [
    "uni.drop(['current price'], axis =1, inplace =True)"
   ]
  },
  {
   "cell_type": "code",
   "execution_count": 194,
   "metadata": {},
   "outputs": [
    {
     "data": {
      "text/plain": [
       "(1000, 11)"
      ]
     },
     "execution_count": 194,
     "metadata": {},
     "output_type": "execute_result"
    }
   ],
   "source": [
    "uni.shape"
   ]
  },
  {
   "cell_type": "code",
   "execution_count": 81,
   "metadata": {},
   "outputs": [
    {
     "data": {
      "text/html": [
       "<div>\n",
       "<style scoped>\n",
       "    .dataframe tbody tr th:only-of-type {\n",
       "        vertical-align: middle;\n",
       "    }\n",
       "\n",
       "    .dataframe tbody tr th {\n",
       "        vertical-align: top;\n",
       "    }\n",
       "\n",
       "    .dataframe thead th {\n",
       "        text-align: right;\n",
       "    }\n",
       "</style>\n",
       "<table border=\"1\" class=\"dataframe\">\n",
       "  <thead>\n",
       "    <tr style=\"text-align: right;\">\n",
       "      <th></th>\n",
       "      <th>v.id</th>\n",
       "      <th>on road old</th>\n",
       "      <th>on road now</th>\n",
       "      <th>years</th>\n",
       "      <th>km</th>\n",
       "      <th>rating</th>\n",
       "      <th>condition</th>\n",
       "      <th>economy</th>\n",
       "      <th>top speed</th>\n",
       "      <th>hp</th>\n",
       "      <th>torque</th>\n",
       "    </tr>\n",
       "  </thead>\n",
       "  <tbody>\n",
       "    <tr>\n",
       "      <th>0</th>\n",
       "      <td>1</td>\n",
       "      <td>535651</td>\n",
       "      <td>798186</td>\n",
       "      <td>3</td>\n",
       "      <td>78945</td>\n",
       "      <td>1</td>\n",
       "      <td>2</td>\n",
       "      <td>14</td>\n",
       "      <td>177</td>\n",
       "      <td>73</td>\n",
       "      <td>123</td>\n",
       "    </tr>\n",
       "    <tr>\n",
       "      <th>1</th>\n",
       "      <td>2</td>\n",
       "      <td>591911</td>\n",
       "      <td>861056</td>\n",
       "      <td>6</td>\n",
       "      <td>117220</td>\n",
       "      <td>5</td>\n",
       "      <td>9</td>\n",
       "      <td>9</td>\n",
       "      <td>148</td>\n",
       "      <td>74</td>\n",
       "      <td>95</td>\n",
       "    </tr>\n",
       "    <tr>\n",
       "      <th>2</th>\n",
       "      <td>3</td>\n",
       "      <td>686990</td>\n",
       "      <td>770762</td>\n",
       "      <td>2</td>\n",
       "      <td>132538</td>\n",
       "      <td>2</td>\n",
       "      <td>8</td>\n",
       "      <td>15</td>\n",
       "      <td>181</td>\n",
       "      <td>53</td>\n",
       "      <td>97</td>\n",
       "    </tr>\n",
       "  </tbody>\n",
       "</table>\n",
       "</div>"
      ],
      "text/plain": [
       "   v.id  on road old  on road now  years     km   rating  condition  economy  \\\n",
       "0     1       535651       798186      3   78945       1          2       14   \n",
       "1     2       591911       861056      6  117220       5          9        9   \n",
       "2     3       686990       770762      2  132538       2          8       15   \n",
       "\n",
       "   top speed  hp  torque  \n",
       "0        177  73     123  \n",
       "1        148  74      95  \n",
       "2        181  53      97  "
      ]
     },
     "execution_count": 81,
     "metadata": {},
     "output_type": "execute_result"
    }
   ],
   "source": [
    "uni.head(3)"
   ]
  },
  {
   "cell_type": "code",
   "execution_count": 199,
   "metadata": {},
   "outputs": [],
   "source": [
    "#Validation function\n",
    "n_folds = 5\n",
    "\n",
    "def rmsle_cv(model):\n",
    "    kf = KFold(n_folds, shuffle=True, random_state=42).get_n_splits(uni)\n",
    "    rmse= np.sqrt(-cross_val_score(model, uni, target,scoring=\"neg_mean_squared_error\", cv=5))\n",
    "    return(rmse)"
   ]
  },
  {
   "cell_type": "code",
   "execution_count": 54,
   "metadata": {},
   "outputs": [
    {
     "data": {
      "text/plain": [
       "array([-1.52623244e-08, -2.50125761e-08, -1.78566013e-08, -1.89797167e-08,\n",
       "       -2.43356243e-08])"
      ]
     },
     "execution_count": 54,
     "metadata": {},
     "output_type": "execute_result"
    }
   ],
   "source": [
    "np.sqrt(-cross_val_score(lasso, uni, target,scoring=\"neg_mean_squared_error\", cv=5))"
   ]
  },
  {
   "cell_type": "code",
   "execution_count": 53,
   "metadata": {},
   "outputs": [
    {
     "data": {
      "text/plain": [
       "array([0.99999802, 0.99999775, 0.99999798, 0.99999794, 0.99999772])"
      ]
     },
     "execution_count": 53,
     "metadata": {},
     "output_type": "execute_result"
    }
   ],
   "source": [
    "cross_val_score(lasso2, uni, target, cv=5)"
   ]
  },
  {
   "cell_type": "code",
   "execution_count": 205,
   "metadata": {},
   "outputs": [
    {
     "name": "stdout",
     "output_type": "stream",
     "text": [
      "\n",
      "Lasso score: 8814.25682285058792331256 (213.49935868081726653145)\n",
      "\n"
     ]
    }
   ],
   "source": [
    "score = rmsle_cv(lasso)\n",
    "print(\"\\nLasso score: {:.20f} ({:.20f})\\n\".format(score.mean(), score.std()))"
   ]
  },
  {
   "cell_type": "code",
   "execution_count": 204,
   "metadata": {},
   "outputs": [
    {
     "name": "stdout",
     "output_type": "stream",
     "text": [
      "\n",
      "Lasso score: 8814.25673297192588506732 (213.49938490166209703602)\n",
      "\n"
     ]
    }
   ],
   "source": [
    "score = rmsle_cv(lasso2)\n",
    "print(\"\\nLasso score: {:.20f} ({:.20f})\\n\".format(score.mean(), score.std()))"
   ]
  },
  {
   "cell_type": "code",
   "execution_count": 203,
   "metadata": {},
   "outputs": [
    {
     "name": "stdout",
     "output_type": "stream",
     "text": [
      "\n",
      "Lasso score: 8814.2566053447 (213.4994208021)\n",
      "\n"
     ]
    }
   ],
   "source": [
    "score = rmsle_cv(lasso3)\n",
    "print(\"\\nLasso score: {:.10f} ({:.10f})\\n\".format(score.mean(), score.std()))"
   ]
  },
  {
   "cell_type": "code",
   "execution_count": 202,
   "metadata": {},
   "outputs": [
    {
     "name": "stdout",
     "output_type": "stream",
     "text": [
      "\n",
      "Lasso score: 8814.2565289906 (213.4994375581)\n",
      "\n"
     ]
    }
   ],
   "source": [
    "score = rmsle_cv(lasso35)\n",
    "print(\"\\nLasso score: {:.10f} ({:.10f})\\n\".format(score.mean(), score.std()))"
   ]
  },
  {
   "cell_type": "code",
   "execution_count": 201,
   "metadata": {},
   "outputs": [
    {
     "name": "stdout",
     "output_type": "stream",
     "text": [
      "\n",
      "Lasso score: 8814.2564780882 (213.4994487288)\n",
      "\n"
     ]
    }
   ],
   "source": [
    "score = rmsle_cv(lasso4)\n",
    "print(\"\\nLasso score: {:.10f} ({:.10f})\\n\".format(score.mean(), score.std()))"
   ]
  },
  {
   "cell_type": "code",
   "execution_count": 200,
   "metadata": {},
   "outputs": [
    {
     "name": "stdout",
     "output_type": "stream",
     "text": [
      "\n",
      "Lasso score: 8814.2563508327 (213.4994766555)\n",
      "\n"
     ]
    }
   ],
   "source": [
    "score = rmsle_cv(lasso45)#########################################Lowest error \n",
    "print(\"\\nLasso score: {:.10f} ({:.10f})\\n\".format(score.mean(), score.std()))"
   ]
  },
  {
   "cell_type": "code",
   "execution_count": 206,
   "metadata": {},
   "outputs": [
    {
     "name": "stdout",
     "output_type": "stream",
     "text": [
      "\n",
      "Lasso score: 8814.2562999308 (213.4994878262)\n",
      "\n"
     ]
    }
   ],
   "source": [
    "lasso455 = make_pipeline(RobustScaler(), Lasso(alpha =0.0022, random_state=1))\n",
    "score = rmsle_cv(lasso455)\n",
    "print(\"\\nLasso score: {:.10f} ({:.10f})\\n\".format(score.mean(), score.std()))"
   ]
  },
  {
   "cell_type": "code",
   "execution_count": 238,
   "metadata": {},
   "outputs": [
    {
     "name": "stdout",
     "output_type": "stream",
     "text": [
      "\n",
      "Lasso score: 8814.2562235782 (213.4995045821)\n",
      "\n"
     ]
    }
   ],
   "source": [
    "score = rmsle_cv(lasso5)\n",
    "print(\"\\nLasso score: {:.10f} ({:.10f})\\n\".format(score.mean(), score.std()))"
   ]
  },
  {
   "cell_type": "code",
   "execution_count": 239,
   "metadata": {},
   "outputs": [
    {
     "name": "stdout",
     "output_type": "stream",
     "text": [
      "\n",
      "Lasso score: 8814.2559436220 (213.4995660207)\n",
      "\n"
     ]
    }
   ],
   "source": [
    "score = rmsle_cv(lasso6)\n",
    "print(\"\\nLasso score: {:.10f} ({:.10f})\\n\".format(score.mean(), score.std()))"
   ]
  },
  {
   "cell_type": "markdown",
   "metadata": {},
   "source": [
    "Elastic Net Regression : again made robust to outliers"
   ]
  },
  {
   "cell_type": "code",
   "execution_count": 64,
   "metadata": {},
   "outputs": [],
   "source": []
  },
  {
   "cell_type": "code",
   "execution_count": 207,
   "metadata": {},
   "outputs": [
    {
     "name": "stdout",
     "output_type": "stream",
     "text": [
      "\n",
      "Elastic Net score: 8814.2656371634 (213.4973560382)\n",
      "\n"
     ]
    }
   ],
   "source": [
    "ENet = make_pipeline(RobustScaler(), ElasticNet(alpha=0.0005, l1_ratio=.9, random_state=3))\n",
    "score = rmsle_cv(ENet)\n",
    "print(\"\\nElastic Net score: {:.10f} ({:.10f})\\n\".format(score.mean(), score.std()))"
   ]
  },
  {
   "cell_type": "code",
   "execution_count": 208,
   "metadata": {},
   "outputs": [
    {
     "name": "stdout",
     "output_type": "stream",
     "text": [
      "\n",
      "Elastic Net score: 8814.4091416080 (213.5040134667)\n",
      "\n"
     ]
    }
   ],
   "source": [
    "ENet2 = make_pipeline(RobustScaler(), ElasticNet(alpha=0.0005, l1_ratio=.7, random_state=3))\n",
    "score = rmsle_cv(ENet2)\n",
    "print(\"\\nElastic Net score: {:.10f} ({:.10f})\\n\".format(score.mean(), score.std()))#higher error"
   ]
  },
  {
   "cell_type": "code",
   "execution_count": 209,
   "metadata": {},
   "outputs": [
    {
     "name": "stdout",
     "output_type": "stream",
     "text": [
      "\n",
      "Elastic Net score: 8814.2559437075 (213.4979185620)\n",
      "\n"
     ]
    }
   ],
   "source": [
    "ENet3 = make_pipeline(RobustScaler(), ElasticNet(alpha=0.0005, l1_ratio=.95, random_state=3))\n",
    "score = rmsle_cv(ENet3)\n",
    "print(\"\\nElastic Net score: {:.10f} ({:.10f})\\n\".format(score.mean(), score.std()))"
   ]
  },
  {
   "cell_type": "code",
   "execution_count": 210,
   "metadata": {},
   "outputs": [
    {
     "name": "stdout",
     "output_type": "stream",
     "text": [
      "\n",
      "Elastic Net score: 8814.2551590338 (213.4986894905)\n",
      "\n"
     ]
    }
   ],
   "source": [
    "ENet4 = make_pipeline(RobustScaler(), ElasticNet(alpha=0.0005, l1_ratio=.98, random_state=3))\n",
    "score = rmsle_cv(ENet4)\n",
    "print(\"\\nElastic Net score: {:.10f} ({:.10f})\\n\".format(score.mean(), score.std()))"
   ]
  },
  {
   "cell_type": "code",
   "execution_count": 211,
   "metadata": {},
   "outputs": [
    {
     "name": "stdout",
     "output_type": "stream",
     "text": [
      "\n",
      "Elastic Net score: 8814.2557362720 (213.4990190155)\n",
      "\n"
     ]
    }
   ],
   "source": [
    "ENet5 = make_pipeline(RobustScaler(), ElasticNet(alpha=0.0005, l1_ratio=.99, random_state=3))\n",
    "score = rmsle_cv(ENet5)\n",
    "print(\"\\nElastic Net score: {:.10f} ({:.10f})\\n\".format(score.mean(), score.std()))"
   ]
  },
  {
   "cell_type": "code",
   "execution_count": 212,
   "metadata": {},
   "outputs": [
    {
     "name": "stdout",
     "output_type": "stream",
     "text": [
      "\n",
      "Elastic Net score: 8814.2561821869 (213.4991974102)\n",
      "\n"
     ]
    }
   ],
   "source": [
    "ENet6 = make_pipeline(RobustScaler(), ElasticNet(alpha=0.0005, l1_ratio=.995, random_state=3))\n",
    "score = rmsle_cv(ENet6)\n",
    "print(\"\\nElastic Net score: {:.10f} ({:.10f})\\n\".format(score.mean(), score.std()))"
   ]
  },
  {
   "cell_type": "code",
   "execution_count": 213,
   "metadata": {},
   "outputs": [
    {
     "name": "stdout",
     "output_type": "stream",
     "text": [
      "\n",
      "Elastic Net score: 8814.2556089103 (213.4990548283)\n",
      "\n"
     ]
    }
   ],
   "source": [
    "ENet61 = make_pipeline(RobustScaler(), ElasticNet(alpha=0.0010, l1_ratio=.995, random_state=3))\n",
    "score = rmsle_cv(ENet61)\n",
    "print(\"\\nElastic Net score: {:.10f} ({:.10f})\\n\".format(score.mean(), score.std()))"
   ]
  },
  {
   "cell_type": "code",
   "execution_count": 214,
   "metadata": {},
   "outputs": [
    {
     "name": "stdout",
     "output_type": "stream",
     "text": [
      "\n",
      "Elastic Net score: 8814.2551411563 (213.4989132724)\n",
      "\n"
     ]
    }
   ],
   "source": [
    "ENet62 = make_pipeline(RobustScaler(), ElasticNet(alpha=0.0015, l1_ratio=.995, random_state=3))\n",
    "score = rmsle_cv(ENet62)\n",
    "print(\"\\nElastic Net score: {:.10f} ({:.10f})\\n\".format(score.mean(), score.std()))\n",
    "#LOWEST E NET #################################################################################################"
   ]
  },
  {
   "cell_type": "code",
   "execution_count": 215,
   "metadata": {},
   "outputs": [
    {
     "name": "stdout",
     "output_type": "stream",
     "text": [
      "\n",
      "Elastic Net score: 8814.2547479702 (213.4984595701)\n",
      "\n"
     ]
    }
   ],
   "source": [
    "ENet52 = make_pipeline(RobustScaler(), ElasticNet(alpha=0.0015, l1_ratio=.99, random_state=3))\n",
    "score = rmsle_cv(ENet52)\n",
    "print(\"\\nElastic Net score: {:.10f} ({:.10f})\\n\".format(score.mean(), score.std()))\n",
    "#######################new lowest"
   ]
  },
  {
   "cell_type": "code",
   "execution_count": 236,
   "metadata": {},
   "outputs": [
    {
     "name": "stdout",
     "output_type": "stream",
     "text": [
      "\n",
      "Elastic Net score: 8814.2545210670 (213.4986571369)\n",
      "\n"
     ]
    }
   ],
   "source": [
    "ENet62 = make_pipeline(RobustScaler(), ElasticNet(alpha=0.0025, l1_ratio=.995, random_state=3))\n",
    "score = rmsle_cv(ENet62)\n",
    "print(\"\\nElastic Net score: {:.10f} ({:.10f})\\n\".format(score.mean(), score.std()))#increasing error"
   ]
  },
  {
   "cell_type": "code",
   "execution_count": 216,
   "metadata": {},
   "outputs": [],
   "source": [
    "KRR = KernelRidge(alpha=0.6, kernel='polynomial', degree=2, coef0=2.5)"
   ]
  },
  {
   "cell_type": "code",
   "execution_count": 217,
   "metadata": {},
   "outputs": [
    {
     "name": "stdout",
     "output_type": "stream",
     "text": [
      "\n",
      " KRRt score: 3166.8236555969 (158.9255338896)\n",
      "\n"
     ]
    }
   ],
   "source": [
    "score = rmsle_cv(KRR)\n",
    "print(\"\\n KRRt score: {:.10f} ({:.10f})\\n\".format(score.mean(), score.std()))\n",
    "\n",
    "#################################################3new lowest"
   ]
  },
  {
   "cell_type": "code",
   "execution_count": 218,
   "metadata": {},
   "outputs": [
    {
     "name": "stdout",
     "output_type": "stream",
     "text": [
      "\n",
      " KRRt score: 3109.9927307732 (152.9985283221)\n",
      "\n"
     ]
    }
   ],
   "source": [
    "# changing alpha didn't have much affect\n",
    "KRR2 = KernelRidge(alpha=0.4, kernel='polynomial', degree=2, coef0=1.5)\n",
    "score = rmsle_cv(KRR2)\n",
    "print(\"\\n KRRt score: {:.10f} ({:.10f})\\n\".format(score.mean(), score.std()))\n",
    "####lowesstttttttttttttttttttttttttt"
   ]
  },
  {
   "cell_type": "code",
   "execution_count": 219,
   "metadata": {},
   "outputs": [
    {
     "name": "stdout",
     "output_type": "stream",
     "text": [
      "\n",
      " KRRt score: 3160.9088453538 (154.8472817226)\n",
      "\n"
     ]
    }
   ],
   "source": [
    "KRR3 = KernelRidge(alpha=0.6, kernel='polynomial', degree=2, coef0=3.5)\n",
    "score = rmsle_cv(KRR3)\n",
    "print(\"\\n KRRt score: {:.10f} ({:.10f})\\n\".format(score.mean(), score.std()))\n",
    "########################################################################Lowest KRR"
   ]
  },
  {
   "cell_type": "code",
   "execution_count": 128,
   "metadata": {},
   "outputs": [
    {
     "name": "stdout",
     "output_type": "stream",
     "text": [
      "\n",
      " KRRt score: 0.1215785523 (0.0545950763)\n",
      "\n"
     ]
    }
   ],
   "source": [
    "KRR4 = KernelRidge(alpha=0.6, kernel='polynomial', degree=2, coef0=4.5)\n",
    "score = rmsle_cv(KRR4)\n",
    "print(\"\\n KRRt score: {:.10f} ({:.10f})\\n\".format(score.mean(), score.std()))"
   ]
  },
  {
   "cell_type": "code",
   "execution_count": 237,
   "metadata": {},
   "outputs": [
    {
     "name": "stdout",
     "output_type": "stream",
     "text": [
      "\n",
      " KRRt score: 3159.7564597246 (153.6083449181)\n",
      "\n"
     ]
    }
   ],
   "source": [
    "KRR5 = KernelRidge(alpha=0.6, kernel='polynomial', degree=2, coef0=4)\n",
    "score = rmsle_cv(KRR5)\n",
    "print(\"\\n KRRt score: {:.10f} ({:.10f})\\n\".format(score.mean(), score.std()))"
   ]
  },
  {
   "cell_type": "markdown",
   "metadata": {},
   "source": [
    "Gradient Boosting Regression : With huber loss that makes it robust to outliers"
   ]
  },
  {
   "cell_type": "code",
   "execution_count": 220,
   "metadata": {},
   "outputs": [],
   "source": [
    "GBoost = GradientBoostingRegressor(n_estimators=3000, learning_rate=0.05,\n",
    "                                   max_depth=4, max_features='sqrt',\n",
    "                                   min_samples_leaf=15, min_samples_split=10, \n",
    "                                   loss='huber', random_state =5)\n",
    "# high training time BEST GBOOST############################################################################################"
   ]
  },
  {
   "cell_type": "code",
   "execution_count": 221,
   "metadata": {},
   "outputs": [
    {
     "name": "stdout",
     "output_type": "stream",
     "text": [
      "\n",
      " GBoost score: 12158.40202511198367574252 (335.6826478246)\n",
      "\n"
     ]
    }
   ],
   "source": [
    "scoregb = rmsle_cv(GBoost)\n",
    "print(\"\\n GBoost score: {:.20f} ({:.10f})\\n\".format(scoregb.mean(), scoregb.std()))\n",
    "# error reduced almost to half. Significant Training time"
   ]
  },
  {
   "cell_type": "code",
   "execution_count": 154,
   "metadata": {},
   "outputs": [],
   "source": [
    "GBoost2 = GradientBoostingRegressor(n_estimators=3000, learning_rate=0.05,\n",
    "                                   max_depth=5, max_features='sqrt',\n",
    "                                   min_samples_leaf=15, min_samples_split=10, \n",
    "                                   loss='huber', random_state =5)#changing max depth"
   ]
  },
  {
   "cell_type": "code",
   "execution_count": null,
   "metadata": {},
   "outputs": [],
   "source": []
  },
  {
   "cell_type": "code",
   "execution_count": 230,
   "metadata": {},
   "outputs": [
    {
     "name": "stdout",
     "output_type": "stream",
     "text": [
      "\n",
      " GBoost score: 13897.70001075114669220056 (335.6826478246)\n",
      "\n"
     ]
    }
   ],
   "source": [
    "scoregb2 = rmsle_cv(GBoost2)\n",
    "print(\"\\n GBoost score: {:.20f} ({:.10f})\\n\".format(scoregb2.mean(), scoregb.std()))\n",
    "# Higher error. Significant Training time"
   ]
  },
  {
   "cell_type": "code",
   "execution_count": 158,
   "metadata": {},
   "outputs": [
    {
     "name": "stdout",
     "output_type": "stream",
     "text": [
      "\n",
      " GBoost score: 0.06331070518483231102 (0.0134823705)\n",
      "\n"
     ]
    }
   ],
   "source": []
  },
  {
   "cell_type": "code",
   "execution_count": 161,
   "metadata": {},
   "outputs": [
    {
     "name": "stdout",
     "output_type": "stream",
     "text": [
      "\n",
      " GBoost score: 0.05935200754754756114 (0.0134823705)\n",
      "\n"
     ]
    }
   ],
   "source": [
    "GBoost4 = GradientBoostingRegressor(n_estimators=3000, learning_rate=0.05,\n",
    "                                   max_depth=4, max_features='sqrt',\n",
    "                                   min_samples_leaf=18, min_samples_split=10, \n",
    "                                   loss='huber', random_state =5)\n",
    "scoregb4 = rmsle_cv(GBoost4)\n",
    "print(\"\\n GBoost score: {:.20f} ({:.10f})\\n\".format(scoregb4.mean(), scoregb.std()))\n",
    "# same error. Significant Training time"
   ]
  },
  {
   "cell_type": "code",
   "execution_count": 231,
   "metadata": {},
   "outputs": [],
   "source": [
    "model_xgb = xgb.XGBRegressor(colsample_bytree=0.4603, gamma=0.0468, \n",
    "                             learning_rate=0.05, max_depth=3, \n",
    "                             min_child_weight=1.7817, n_estimators=2200,\n",
    "                             reg_alpha=0.4640, reg_lambda=0.8571,\n",
    "                             subsample=0.5213, silent=1,eval_metric  ='rmse',\n",
    "                             random_state =7, nthread = -1)"
   ]
  },
  {
   "cell_type": "code",
   "execution_count": 232,
   "metadata": {},
   "outputs": [
    {
     "name": "stdout",
     "output_type": "stream",
     "text": [
      "\n",
      " XGBoost score: 8964.564966873531375313177704811096 (2202.2485375727)\n",
      "\n"
     ]
    }
   ],
   "source": [
    "scorexgb = rmsle_cv(model_xgb)\n",
    "print(\"\\n XGBoost score: {:.30f} ({:.10f})\\n\".format(scorexgb.mean(), scorexgb.std()))\n",
    "# slightly worse performance than GBoost. Less training time."
   ]
  },
  {
   "cell_type": "code",
   "execution_count": 233,
   "metadata": {},
   "outputs": [
    {
     "name": "stdout",
     "output_type": "stream",
     "text": [
      "\n",
      " XGBoost score: 8736.665388879458987503312528133392 (2202.2485375727)\n",
      "\n"
     ]
    }
   ],
   "source": [
    "model_xgb2 = xgb.XGBRegressor(colsample_bytree=0.4603, gamma=0.0468, \n",
    "                             learning_rate=0.05, max_depth=3, \n",
    "                             min_child_weight=1.7817, n_estimators=2200,\n",
    "                             reg_alpha=0.4640, reg_lambda=0.8571,\n",
    "                             subsample=0.8, silent=1,eval_metric  ='rmse',\n",
    "                             random_state =7, nthread = -1)\n",
    "scorexgb2 = rmsle_cv(model_xgb2)\n",
    "print(\"\\n XGBoost score: {:.30f} ({:.10f})\\n\".format(scorexgb2.mean(), scorexgb.std()))\n",
    "# slightly worse performance than GBoost. Less training time."
   ]
  },
  {
   "cell_type": "code",
   "execution_count": 235,
   "metadata": {},
   "outputs": [
    {
     "name": "stdout",
     "output_type": "stream",
     "text": [
      "\n",
      " XGBoost score: 12694.096660752218667767010629177094 (2202.2485375727)\n",
      "\n"
     ]
    }
   ],
   "source": [
    "#increasing max depth\n",
    "model_xgb3 = xgb.XGBRegressor(colsample_bytree=0.4603, gamma=0.0468, \n",
    "                             learning_rate=0.05, max_depth=4, \n",
    "                             min_child_weight=1.7817, n_estimators=2200,\n",
    "                             reg_alpha=0.4640, reg_lambda=0.8571,\n",
    "                             subsample=0.5213, silent=1,eval_metric  ='rmse',\n",
    "                             random_state =7, nthread = -1)\n",
    "scorexgb3 = rmsle_cv(model_xgb3)\n",
    "print(\"\\n XGBoost score: {:.30f} ({:.10f})\\n\".format(scorexgb3.mean(), scorexgb.std()))\n",
    "#worse "
   ]
  },
  {
   "cell_type": "markdown",
   "metadata": {},
   "source": [
    "NOTE######################\n",
    "Please ignore the GB Regressor scores below as they were obtained when I had scaled the output as well. "
   ]
  },
  {
   "cell_type": "code",
   "execution_count": 240,
   "metadata": {},
   "outputs": [
    {
     "name": "stdout",
     "output_type": "stream",
     "text": [
      "\n",
      " XGBoost score: 8682.162882480211919755674898624420 (2202.2485375727)\n",
      "\n"
     ]
    }
   ],
   "source": [
    "#colsample_bytree increasing\n",
    "model_xgb3 = xgb.XGBRegressor(colsample_bytree=0.8, gamma=0.0468, \n",
    "                             learning_rate=0.05, max_depth=4, \n",
    "                             min_child_weight=1.7817, n_estimators=2200,\n",
    "                             reg_alpha=0.4640, reg_lambda=0.8571,\n",
    "                             subsample=0.5213, silent=1,eval_metric  ='rmse',\n",
    "                             random_state =7, nthread = -1)\n",
    "scorexgb3 = rmsle_cv(model_xgb3)\n",
    "print(\"\\n XGBoost score: {:.30f} ({:.10f})\\n\".format(scorexgb3.mean(), scorexgb.std()))\n",
    "#better"
   ]
  },
  {
   "cell_type": "code",
   "execution_count": 241,
   "metadata": {},
   "outputs": [
    {
     "name": "stdout",
     "output_type": "stream",
     "text": [
      "\n",
      " XGBoost score: 7121.969400234665954485535621643066 (2202.2485375727)\n",
      "\n"
     ]
    }
   ],
   "source": [
    "#colsample_bytree increasing\n",
    "model_xgb4 = xgb.XGBRegressor(colsample_bytree=0.9, gamma=0.0468, \n",
    "                             learning_rate=0.05, max_depth=4, \n",
    "                             min_child_weight=1.7817, n_estimators=2200,\n",
    "                             reg_alpha=0.4640, reg_lambda=0.8571,\n",
    "                             subsample=0.5213, silent=1,eval_metric  ='rmse',\n",
    "                             random_state =7, nthread = -1)\n",
    "scorexgb4 = rmsle_cv(model_xgb4)\n",
    "print(\"\\n XGBoost score: {:.30f} ({:.10f})\\n\".format(scorexgb4.mean(), scorexgb.std()))\n",
    "#better because low no of columns, col by sample needs to be high"
   ]
  },
  {
   "cell_type": "code",
   "execution_count": 242,
   "metadata": {},
   "outputs": [
    {
     "name": "stdout",
     "output_type": "stream",
     "text": [
      "\n",
      " XGBoost score: 7080.372171716368939087260514497757 (2202.2485375727)\n",
      "\n"
     ]
    }
   ],
   "source": [
    "#colsample_bytree increasing\n",
    "model_xgb5 = xgb.XGBRegressor(colsample_bytree=1, gamma=0.0468, \n",
    "                             learning_rate=0.05, max_depth=4, \n",
    "                             min_child_weight=1.7817, n_estimators=2200,\n",
    "                             reg_alpha=0.4640, reg_lambda=0.8571,\n",
    "                             subsample=0.5213, silent=1,eval_metric  ='rmse',\n",
    "                             random_state =7, nthread = -1)\n",
    "scorexgb5 = rmsle_cv(model_xgb5)\n",
    "print(\"\\n XGBoost score: {:.30f} ({:.10f})\\n\".format(scorexgb5.mean(), scorexgb.std()))\n",
    "#better STILL BETTER  BEST XG Boost ##############################################################################################"
   ]
  },
  {
   "cell_type": "code",
   "execution_count": 243,
   "metadata": {},
   "outputs": [
    {
     "name": "stdout",
     "output_type": "stream",
     "text": [
      "\n",
      " XGBoost score: 6966.997691736718479660339653491974 (2202.2485375727)\n",
      "\n"
     ]
    }
   ],
   "source": [
    "#colsample_bytree increasing, decrease learning rate\n",
    "model_xgb6 = xgb.XGBRegressor(colsample_bytree=1, gamma=0.0468, \n",
    "                             learning_rate=0.04, max_depth=4, \n",
    "                             min_child_weight=1.7817, n_estimators=2200,\n",
    "                             reg_alpha=0.4640, reg_lambda=0.8571,\n",
    "                             subsample=0.5213, silent=1,eval_metric  ='rmse',\n",
    "                             random_state =7, nthread = -1)\n",
    "scorexgb6 = rmsle_cv(model_xgb6)\n",
    "print(\"\\n XGBoost score: {:.30f} ({:.10f})\\n\".format(scorexgb6.mean(), scorexgb.std()))\n",
    "#better  Worse performance"
   ]
  },
  {
   "cell_type": "code",
   "execution_count": 244,
   "metadata": {},
   "outputs": [
    {
     "name": "stdout",
     "output_type": "stream",
     "text": [
      "\n",
      " XGBoost score: 7080.372171716368939087260514497757 (2202.2485375727)\n",
      "\n"
     ]
    }
   ],
   "source": [
    "#colsample_bytree increasing regularisation increased\n",
    "model_xgb7 = xgb.XGBRegressor(colsample_bytree=1, gamma=1, \n",
    "                             learning_rate=0.05, max_depth=4, \n",
    "                             min_child_weight=1.7817, n_estimators=2200,\n",
    "                             reg_alpha=0.4640, reg_lambda=0.8571,\n",
    "                             subsample=0.5213, silent=1,eval_metric  ='rmse',\n",
    "                             random_state =7, nthread = -1)\n",
    "scorexgb7 = rmsle_cv(model_xgb7)\n",
    "print(\"\\n XGBoost score: {:.30f} ({:.10f})\\n\".format(scorexgb7.mean(), scorexgb.std()))\n",
    "#very bad "
   ]
  },
  {
   "cell_type": "code",
   "execution_count": 178,
   "metadata": {},
   "outputs": [
    {
     "name": "stdout",
     "output_type": "stream",
     "text": [
      "\n",
      " XGBoost score: 0.068836469773775429970008588043 (0.0139501612)\n",
      "\n"
     ]
    }
   ],
   "source": [
    "#colsample_bytree increasing regularisation increased\n",
    "model_xgb8 = xgb.XGBRegressor(colsample_bytree=1, gamma=.1, \n",
    "                             learning_rate=0.05, max_depth=4, \n",
    "                             min_child_weight=1.7817, n_estimators=2200,\n",
    "                             reg_alpha=0.4640, reg_lambda=0.8571,\n",
    "                             subsample=0.5213, silent=1,eval_metric  ='rmse',\n",
    "                             random_state =7, nthread = -1)\n",
    "scorexgb8 = rmsle_cv(model_xgb8)\n",
    "print(\"\\n XGBoost score: {:.30f} ({:.10f})\\n\".format(scorexgb8.mean(), scorexgb.std()))\n",
    "#very bad "
   ]
  },
  {
   "cell_type": "code",
   "execution_count": 245,
   "metadata": {},
   "outputs": [
    {
     "name": "stdout",
     "output_type": "stream",
     "text": [
      "LGBM score: 7657.3021222171 (490.1745178886)\n",
      "\n"
     ]
    }
   ],
   "source": [
    "model_lgb = lgb.LGBMRegressor(objective='regression',num_leaves=5,\n",
    "                              learning_rate=0.05, n_estimators=920,\n",
    "                              max_bin = 55, bagging_fraction = 0.8,\n",
    "                              bagging_freq = 5, feature_fraction = 0.2319,\n",
    "                              feature_fraction_seed=9, bagging_seed=9,\n",
    "                              min_data_in_leaf =6, min_sum_hessian_in_leaf = 11)\n",
    "score = rmsle_cv(model_lgb)\n",
    "print(\"LGBM score: {:.10f} ({:.10f})\\n\" .format(score.mean(), score.std()))"
   ]
  },
  {
   "cell_type": "code",
   "execution_count": 246,
   "metadata": {},
   "outputs": [
    {
     "name": "stdout",
     "output_type": "stream",
     "text": [
      "LGBM score: 5857.2646217046 (173.0266041954)\n",
      "\n"
     ]
    }
   ],
   "source": [
    "model_lgb1 = lgb.LGBMRegressor(objective='regression',num_leaves=5,\n",
    "                              learning_rate=0.05, n_estimators=920,\n",
    "                              max_bin = 55, bagging_fraction = 0.8,\n",
    "                              bagging_freq = 5, feature_fraction = 0.5,\n",
    "                              feature_fraction_seed=9, bagging_seed=9,\n",
    "                              min_data_in_leaf =6, min_sum_hessian_in_leaf = 11)\n",
    "score = rmsle_cv(model_lgb1)\n",
    "print(\"LGBM score: {:.10f} ({:.10f})\\n\" .format(score.mean(), score.std()))###BEST EVER RESULTS"
   ]
  },
  {
   "cell_type": "code",
   "execution_count": 186,
   "metadata": {},
   "outputs": [
    {
     "name": "stdout",
     "output_type": "stream",
     "text": [
      "LGBM score: 0.0403775988 (0.0093979914)\n",
      "\n"
     ]
    }
   ],
   "source": [
    "model_lgb2 = lgb.LGBMRegressor(objective='regression',num_leaves=5,\n",
    "                              learning_rate=0.05, n_estimators=920,\n",
    "                              max_bin = 55, bagging_fraction = 0.8,\n",
    "                              bagging_freq = 5, feature_fraction = 0.8,\n",
    "                              feature_fraction_seed=9, bagging_seed=9,\n",
    "                              min_data_in_leaf =6, min_sum_hessian_in_leaf = 11)\n",
    "score = rmsle_cv(model_lgb2)\n",
    "print(\"LGBM score: {:.10f} ({:.10f})\\n\" .format(score.mean(), score.std()))"
   ]
  },
  {
   "cell_type": "code",
   "execution_count": 247,
   "metadata": {},
   "outputs": [
    {
     "name": "stdout",
     "output_type": "stream",
     "text": [
      "LGBM score: 6695.0959880884 (475.6568881552)\n",
      "\n"
     ]
    }
   ],
   "source": [
    "model_lgb3 = lgb.LGBMRegressor(objective='regression',num_leaves=5,\n",
    "                              learning_rate=0.05, n_estimators=920,\n",
    "                              max_bin = 55, bagging_fraction = 0.8,\n",
    "                              bagging_freq = 5, feature_fraction = 0.9,\n",
    "                              feature_fraction_seed=9, bagging_seed=9,\n",
    "                              min_data_in_leaf =6, min_sum_hessian_in_leaf = 11)\n",
    "score = rmsle_cv(model_lgb3)\n",
    "print(\"LGBM score: {:.10f} ({:.10f})\\n\" .format(score.mean(), score.std()))###BEST EVER RESULTS\n",
    "#####################################################################################################################"
   ]
  },
  {
   "cell_type": "code",
   "execution_count": 190,
   "metadata": {},
   "outputs": [
    {
     "data": {
      "text/plain": [
       "LGBMRegressor(bagging_fraction=0.8, bagging_freq=5, bagging_seed=9,\n",
       "              boosting_type='gbdt', class_weight=None, colsample_bytree=1.0,\n",
       "              feature_fraction=0.9, feature_fraction_seed=9,\n",
       "              importance_type='split', learning_rate=0.05, max_bin=55,\n",
       "              max_depth=-1, min_child_samples=20, min_child_weight=0.001,\n",
       "              min_data_in_leaf=6, min_split_gain=0.0,\n",
       "              min_sum_hessian_in_leaf=11, n_estimators=920, n_jobs=-1,\n",
       "              num_leaves=5, objective='regression', random_state=None,\n",
       "              reg_alpha=0.0, reg_lambda=0.0, silent=True, subsample=1.0,\n",
       "              subsample_for_bin=200000, subsample_freq=0)"
      ]
     },
     "execution_count": 190,
     "metadata": {},
     "output_type": "execute_result"
    }
   ],
   "source": [
    "model_lgb3.fit(uni, target)"
   ]
  },
  {
   "cell_type": "code",
   "execution_count": 227,
   "metadata": {},
   "outputs": [],
   "source": [
    "pred = model_lgb3.predict(unitest)"
   ]
  },
  {
   "cell_type": "code",
   "execution_count": 228,
   "metadata": {},
   "outputs": [
    {
     "ename": "IndexError",
     "evalue": "only integers, slices (`:`), ellipsis (`...`), numpy.newaxis (`None`) and integer or boolean arrays are valid indices",
     "output_type": "error",
     "traceback": [
      "\u001b[1;31m---------------------------------------------------------------------------\u001b[0m",
      "\u001b[1;31mIndexError\u001b[0m                                Traceback (most recent call last)",
      "\u001b[1;32m<ipython-input-228-b2c0f37c6dfb>\u001b[0m in \u001b[0;36m<module>\u001b[1;34m\u001b[0m\n\u001b[0;32m      1\u001b[0m \u001b[0mres\u001b[0m \u001b[1;33m=\u001b[0m \u001b[0mpd\u001b[0m\u001b[1;33m.\u001b[0m\u001b[0mDataFrame\u001b[0m\u001b[1;33m(\u001b[0m\u001b[1;33m)\u001b[0m\u001b[1;33m\u001b[0m\u001b[1;33m\u001b[0m\u001b[0m\n\u001b[1;32m----> 2\u001b[1;33m \u001b[0mres\u001b[0m\u001b[1;33m[\u001b[0m\u001b[1;34m'v.id'\u001b[0m\u001b[1;33m]\u001b[0m\u001b[1;33m=\u001b[0m \u001b[0munitest\u001b[0m\u001b[1;33m[\u001b[0m\u001b[1;34m'v.id'\u001b[0m\u001b[1;33m]\u001b[0m\u001b[1;33m\u001b[0m\u001b[1;33m\u001b[0m\u001b[0m\n\u001b[0m\u001b[0;32m      3\u001b[0m \u001b[0mres\u001b[0m\u001b[1;33m[\u001b[0m\u001b[1;34m'current price'\u001b[0m\u001b[1;33m]\u001b[0m \u001b[1;33m=\u001b[0m \u001b[0mpred\u001b[0m\u001b[1;33m\u001b[0m\u001b[1;33m\u001b[0m\u001b[0m\n\u001b[0;32m      4\u001b[0m \u001b[0mres\u001b[0m\u001b[1;33m.\u001b[0m\u001b[0mto_csv\u001b[0m\u001b[1;33m(\u001b[0m\u001b[1;34m'submission.csv'\u001b[0m\u001b[1;33m,\u001b[0m\u001b[0mindex\u001b[0m\u001b[1;33m=\u001b[0m\u001b[1;32mFalse\u001b[0m\u001b[1;33m)\u001b[0m\u001b[1;33m\u001b[0m\u001b[1;33m\u001b[0m\u001b[0m\n",
      "\u001b[1;31mIndexError\u001b[0m: only integers, slices (`:`), ellipsis (`...`), numpy.newaxis (`None`) and integer or boolean arrays are valid indices"
     ]
    }
   ],
   "source": [
    "res = pd.DataFrame()\n",
    "res['v.id']= unitest['v.id']\n",
    "res['current price'] = pred\n",
    "res.to_csv('submission.csv',index=False)"
   ]
  },
  {
   "cell_type": "code",
   "execution_count": 222,
   "metadata": {},
   "outputs": [
    {
     "data": {
      "text/plain": [
       "KernelRidge(alpha=0.4, coef0=1.5, degree=2, gamma=None, kernel='polynomial',\n",
       "            kernel_params=None)"
      ]
     },
     "execution_count": 222,
     "metadata": {},
     "output_type": "execute_result"
    }
   ],
   "source": [
    "KRR2.fit(uni, target)"
   ]
  },
  {
   "cell_type": "code",
   "execution_count": 224,
   "metadata": {},
   "outputs": [],
   "source": [
    "pred = KRR2.predict(unitest)"
   ]
  },
  {
   "cell_type": "code",
   "execution_count": 248,
   "metadata": {},
   "outputs": [
    {
     "ename": "AttributeError",
     "evalue": "'numpy.ndarray' object has no attribute 'head'",
     "output_type": "error",
     "traceback": [
      "\u001b[1;31m---------------------------------------------------------------------------\u001b[0m",
      "\u001b[1;31mAttributeError\u001b[0m                            Traceback (most recent call last)",
      "\u001b[1;32m<ipython-input-248-07af86ef2436>\u001b[0m in \u001b[0;36m<module>\u001b[1;34m\u001b[0m\n\u001b[1;32m----> 1\u001b[1;33m \u001b[0munitest\u001b[0m\u001b[1;33m.\u001b[0m\u001b[0mhead\u001b[0m\u001b[1;33m(\u001b[0m\u001b[1;33m)\u001b[0m\u001b[1;33m\u001b[0m\u001b[1;33m\u001b[0m\u001b[0m\n\u001b[0m",
      "\u001b[1;31mAttributeError\u001b[0m: 'numpy.ndarray' object has no attribute 'head'"
     ]
    }
   ],
   "source": [
    "unitest.head()"
   ]
  },
  {
   "cell_type": "code",
   "execution_count": 226,
   "metadata": {},
   "outputs": [
    {
     "ename": "IndexError",
     "evalue": "only integers, slices (`:`), ellipsis (`...`), numpy.newaxis (`None`) and integer or boolean arrays are valid indices",
     "output_type": "error",
     "traceback": [
      "\u001b[1;31m---------------------------------------------------------------------------\u001b[0m",
      "\u001b[1;31mIndexError\u001b[0m                                Traceback (most recent call last)",
      "\u001b[1;32m<ipython-input-226-e739648c13a4>\u001b[0m in \u001b[0;36m<module>\u001b[1;34m\u001b[0m\n\u001b[0;32m      1\u001b[0m \u001b[0mres\u001b[0m \u001b[1;33m=\u001b[0m \u001b[0mpd\u001b[0m\u001b[1;33m.\u001b[0m\u001b[0mDataFrame\u001b[0m\u001b[1;33m(\u001b[0m\u001b[1;33m)\u001b[0m\u001b[1;33m\u001b[0m\u001b[1;33m\u001b[0m\u001b[0m\n\u001b[1;32m----> 2\u001b[1;33m \u001b[0mres\u001b[0m\u001b[1;33m[\u001b[0m\u001b[1;34m'v.id'\u001b[0m\u001b[1;33m]\u001b[0m\u001b[1;33m=\u001b[0m \u001b[0munitest\u001b[0m\u001b[1;33m[\u001b[0m\u001b[1;34m'v.id'\u001b[0m\u001b[1;33m]\u001b[0m\u001b[1;33m\u001b[0m\u001b[1;33m\u001b[0m\u001b[0m\n\u001b[0m\u001b[0;32m      3\u001b[0m \u001b[0mres\u001b[0m\u001b[1;33m[\u001b[0m\u001b[1;34m'current price'\u001b[0m\u001b[1;33m]\u001b[0m \u001b[1;33m=\u001b[0m \u001b[0mpred\u001b[0m\u001b[1;33m\u001b[0m\u001b[1;33m\u001b[0m\u001b[0m\n\u001b[0;32m      4\u001b[0m \u001b[0mres\u001b[0m\u001b[1;33m.\u001b[0m\u001b[0mto_csv\u001b[0m\u001b[1;33m(\u001b[0m\u001b[1;34m'submissionK.csv'\u001b[0m\u001b[1;33m,\u001b[0m\u001b[0mindex\u001b[0m\u001b[1;33m=\u001b[0m\u001b[1;32mFalse\u001b[0m\u001b[1;33m)\u001b[0m\u001b[1;33m\u001b[0m\u001b[1;33m\u001b[0m\u001b[0m\n",
      "\u001b[1;31mIndexError\u001b[0m: only integers, slices (`:`), ellipsis (`...`), numpy.newaxis (`None`) and integer or boolean arrays are valid indices"
     ]
    }
   ],
   "source": [
    "res = pd.DataFrame()\n",
    "res['v.id']= unitest['v.id']\n",
    "res['current price'] = pred\n",
    "res.to_csv('submissionK.csv',index=False)"
   ]
  },
  {
   "cell_type": "code",
   "execution_count": null,
   "metadata": {},
   "outputs": [],
   "source": []
  }
 ],
 "metadata": {
  "kernelspec": {
   "display_name": "Python 3",
   "language": "python",
   "name": "python3"
  },
  "language_info": {
   "codemirror_mode": {
    "name": "ipython",
    "version": 3
   },
   "file_extension": ".py",
   "mimetype": "text/x-python",
   "name": "python",
   "nbconvert_exporter": "python",
   "pygments_lexer": "ipython3",
   "version": "3.7.3"
  }
 },
 "nbformat": 4,
 "nbformat_minor": 2
}
